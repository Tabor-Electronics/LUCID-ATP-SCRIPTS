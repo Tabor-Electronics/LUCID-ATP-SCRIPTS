{
 "cells": [
  {
   "cell_type": "code",
   "execution_count": 1,
   "id": "00a5043f",
   "metadata": {},
   "outputs": [
    {
     "name": "stdout",
     "output_type": "stream",
     "text": [
      "Connected to : Tabor Electronics,LSX2091D,20240101,1.0.2\r\n"
     ]
    }
   ],
   "source": [
    "'''\n",
    "Test 2.3 ERP option -Output power vs frequency testing script\n",
    "Test description - This test gives out the value of frequency and  power and compare the given threshold to conclude the result for Accuracy with given frequency\n",
    "Equipment required -\n",
    "Lucid device - LSX4091D\n",
    "Spectrum Analyzer - \n",
    "'''\n",
    "import numpy as np\n",
    "import pyvisa as visa\n",
    "import socket\n",
    "import time\n",
    "import re  # Set the IP Address and port\n",
    "\n",
    "handle = 'TCPIP0::192.168.7.1::5025::SOCKET'\n",
    "\n",
    "\n",
    "def send_scpi_cmd(cmd, handle):\n",
    "    try:\n",
    "        resourceManager = visa.ResourceManager()\n",
    "        session = resourceManager.open_resource(handle)\n",
    "\n",
    "        # Need to define the termination string\n",
    "        session.write_termination = '\\n'\n",
    "        session.read_termination = '\\n'\n",
    "\n",
    "        session.write(cmd)\n",
    "        session.close()\n",
    "    except Exception as e:\n",
    "        print('[!] Exception: ' + str(e))\n",
    "\n",
    "\n",
    "def send_scpi_query(query, handle):\n",
    "    try:\n",
    "        resourceManager = visa.ResourceManager()\n",
    "        session = resourceManager.open_resource(handle)\n",
    "\n",
    "        # Need to define the termination string\n",
    "        session.write_termination = '\\n'\n",
    "        session.read_termination = '\\n'\n",
    "\n",
    "        response = str(session.query(query))\n",
    "        session.close()\n",
    "        return response\n",
    "\n",
    "    except Exception as e:\n",
    "        print('[!] Exception: ' + str(e))\n",
    "\n",
    "\n",
    "send_scpi_cmd('*CLS', handle)\n",
    "query = '*IDN?'\n",
    "temp = send_scpi_query(query, handle)\n",
    "print(\"Connected to :\", temp)"
   ]
  },
  {
   "cell_type": "code",
   "execution_count": 3,
   "id": "48764d3d",
   "metadata": {},
   "outputs": [
    {
     "name": "stdout",
     "output_type": "stream",
     "text": [
      "Connected to : Tabor Electronics,LSX2091D,20240101,1.0.2\r\n"
     ]
    }
   ],
   "source": [
    "# Initilization\n",
    "send_scpi_cmd('*CLS', handle)\n",
    "# send_scpi_cmd('*RST', handle)\n",
    "# time.sleep(20)\n",
    "resp = send_scpi_query('*IDN?', handle)\n",
    "print(\"Connected to :\",resp)\n",
    "####################################################################\n",
    "# Input Parameters \n",
    "frequency_list =[1e6,100e6,1e9,3e9,6e9,12e9]\n",
    "power_list= [25,0,-70,-120]\n"
   ]
  },
  {
   "cell_type": "code",
   "execution_count": null,
   "id": "d2b3bf82",
   "metadata": {},
   "outputs": [
    {
     "name": "stdout",
     "output_type": "stream",
     "text": [
      "Check for frequency  1.0 MHz\n",
      "and Power  25 dBm\n",
      "Press input for next parameter\n",
      "\n",
      "Check for frequency  1.0 MHz\n",
      "and Power  0 dBm\n",
      "Press input for next parameter\n",
      "\n",
      "Check for frequency  1.0 MHz\n",
      "and Power  -70 dBm\n",
      "Press input for next parameter\n",
      "\n",
      "Check for frequency  1.0 MHz\n",
      "and Power  -120 dBm\n",
      "Press input for next parameter\n",
      "\n",
      "Check for frequency  100.0 MHz\n",
      "and Power  25 dBm\n",
      "Press input for next parameter\n",
      "\n",
      "Check for frequency  100.0 MHz\n",
      "and Power  0 dBm\n",
      "Press input for next parameter\n"
     ]
    }
   ],
   "source": [
    "###########################################\n",
    "for freqq_in_MHz in frequency_list:\n",
    "    for power_in_dBm in power_list:\n",
    "        \n",
    "        send_scpi_cmd(':FREQuency {0}'.format(freqq_in_MHz), handle)\n",
    "        send_scpi_cmd(':POWer {0}'.format(power_in_dBm), handle)\n",
    "        freq_query = send_scpi_query(':FREQuency?', handle)\n",
    "        power_query = send_scpi_query(':POWer?', handle)\n",
    "        send_scpi_cmd(':OUTPut ON', handle)\n",
    "        outp_query = send_scpi_query(':OUTP?', handle)\n",
    "\n",
    "        freq_in_MHz = float(freq_query)/1e6\n",
    "        print('Check for frequency ',freq_in_MHz,\"MHz\")\n",
    "      \n",
    "        print('and Power ',power_in_dBm,'dBm')\n",
    "        print('Press input for next parameter')\n",
    "        input()\n",
    "            \n",
    "            \n",
    "        send_scpi_cmd(':OUTPut OFF', handle)\n",
    "print(\"test completed\")"
   ]
  },
  {
   "cell_type": "code",
   "execution_count": null,
   "id": "1762450c",
   "metadata": {},
   "outputs": [],
   "source": []
  },
  {
   "cell_type": "code",
   "execution_count": null,
   "id": "48d36cae",
   "metadata": {},
   "outputs": [],
   "source": []
  }
 ],
 "metadata": {
  "kernelspec": {
   "display_name": "Python 3 (ipykernel)",
   "language": "python",
   "name": "python3"
  },
  "language_info": {
   "codemirror_mode": {
    "name": "ipython",
    "version": 3
   },
   "file_extension": ".py",
   "mimetype": "text/x-python",
   "name": "python",
   "nbconvert_exporter": "python",
   "pygments_lexer": "ipython3",
   "version": "3.10.9"
  }
 },
 "nbformat": 4,
 "nbformat_minor": 5
}
