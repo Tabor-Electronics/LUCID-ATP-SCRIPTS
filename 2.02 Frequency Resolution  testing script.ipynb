{
 "cells": [
  {
   "cell_type": "code",
   "execution_count": 3,
   "id": "27abbe7c",
   "metadata": {},
   "outputs": [
    {
     "name": "stdout",
     "output_type": "stream",
     "text": [
      "Connected to : Tabor Electronics,LSX2091D,20240101,1.0.35\n"
     ]
    }
   ],
   "source": [
    "'''\n",
    "Test - 2.2 Frequency Resolution\n",
    "Test description - This scripts check the resolution with 1mHz of change in frequency.\n",
    "Equipment required -\n",
    "1) Lucid device - LSX4091D\n",
    "2) Frequency counter1.\tConfigure the counter as follows:\n",
    "    a.\tGate: \t\tDIGITS \n",
    "    b.\tDIGITS:\t\tas specified in the test\n",
    "    c.\tMeasurement:\tFrequency 1\n",
    "\n",
    "'''\n",
    "import numpy as np\n",
    "import pyvisa as visa\n",
    "import socket\n",
    "import time\n",
    "import re  \n",
    "\n",
    "# Set the IP Address and port\n",
    "handle = 'TCPIP0::192.168.7.1::5025::SOCKET'\n",
    "\n",
    "\n",
    "def send_scpi_cmd(cmd, handle):\n",
    "    try:\n",
    "        resourceManager = visa.ResourceManager()\n",
    "        session = resourceManager.open_resource(handle)\n",
    "\n",
    "        # Need to define the termination string\n",
    "        session.write_termination = '\\n'\n",
    "        session.read_termination = '\\n'\n",
    "\n",
    "        session.write(cmd)\n",
    "        session.close()\n",
    "    except Exception as e:\n",
    "        print('[!] Exception: ' + str(e))\n",
    "\n",
    "\n",
    "def send_scpi_query(query, handle):\n",
    "    try:\n",
    "        resourceManager = visa.ResourceManager()\n",
    "        session = resourceManager.open_resource(handle)\n",
    "\n",
    "        # Need to define the termination string\n",
    "        session.write_termination = '\\n'\n",
    "        session.read_termination = '\\n'\n",
    "\n",
    "        response = str(session.query(query))\n",
    "        response =response.split(\";\")[0]\n",
    "        session.close()\n",
    "        return response\n",
    "\n",
    "    except Exception as e:\n",
    "        print('[!] Exception: ' + str(e))\n",
    "\n",
    "\n",
    "send_scpi_cmd('*CLS', handle)\n",
    "send_scpi_cmd('*RST', handle)\n",
    "query = '*IDN?'\n",
    "temp = send_scpi_query(query, handle)\n",
    "print(\"Connected to :\", temp)"
   ]
  },
  {
   "cell_type": "code",
   "execution_count": 4,
   "id": "6e422c13",
   "metadata": {},
   "outputs": [
    {
     "name": "stdout",
     "output_type": "stream",
     "text": [
      "Connected to : Tabor Electronics,LSX2091D,20240101,1.0.35\n"
     ]
    }
   ],
   "source": [
    "# Initilization\n",
    "#send_scpi_cmd('*RST', handle)\n",
    "resp = send_scpi_query('*IDN?', handle)\n",
    "print(\"Connected to :\",resp)\n",
    "#send_scpi_cmd(':SYST:ERR?', handle)\n",
    "# send_scpi_cmd(':INST 1;:INST:ACT 1', handle)\n",
    "\n",
    "####################################################################\n",
    "# Input Parameters (madify this for 40G accordingly)\n",
    "frequency = 100e6+np.arange(11) * .001\n",
    "\n",
    "\n",
    "# Convert to list\n",
    "frequency_list = list(frequency)\n",
    "power_list= [5]"
   ]
  },
  {
   "cell_type": "code",
   "execution_count": null,
   "id": "4c12dd88",
   "metadata": {},
   "outputs": [
    {
     "name": "stdout",
     "output_type": "stream",
     "text": [
      "Check for frequency  100.0 MHz\n",
      "and Power  5 dBm\n",
      "Press input for next parameter\n",
      "\n",
      "Check for frequency  100.000000001 MHz\n",
      "and Power  5 dBm\n",
      "Press input for next parameter\n",
      "\n",
      "Check for frequency  100.00000000200001 MHz\n",
      "and Power  5 dBm\n",
      "Press input for next parameter\n"
     ]
    }
   ],
   "source": [
    "###########################################\n",
    "for freqq_in_MHz in frequency_list:\n",
    "    for power_in_dBm in power_list:\n",
    "        \n",
    "        send_scpi_cmd(':FREQuency {0}'.format(freqq_in_MHz), handle)\n",
    "        send_scpi_cmd(':POWer {0}'.format(power_in_dBm), handle)\n",
    "        freq_query = send_scpi_query(':FREQuency?', handle)\n",
    "        power_query = send_scpi_query(':POWer?', handle)\n",
    "        send_scpi_cmd(':OUTPut ON', handle)\n",
    "        outp_query = send_scpi_query(':OUTP?', handle)\n",
    "\n",
    "\n",
    "        frequency = float(freq_query)/1e6\n",
    "        print('Check for frequency ',frequency,\"MHz\")\n",
    "        print('and Power ',power_in_dBm,'dBm')\n",
    "        print('Press input for next parameter')\n",
    "        input()\n",
    "        send_scpi_cmd(':OUTPut OFF', handle)\n",
    "print(\"test completed\")"
   ]
  },
  {
   "cell_type": "code",
   "execution_count": null,
   "id": "d6a2a16f",
   "metadata": {},
   "outputs": [],
   "source": []
  },
  {
   "cell_type": "code",
   "execution_count": null,
   "id": "9f0a48b4",
   "metadata": {},
   "outputs": [],
   "source": []
  }
 ],
 "metadata": {
  "kernelspec": {
   "display_name": "Python 3 (ipykernel)",
   "language": "python",
   "name": "python3"
  },
  "language_info": {
   "codemirror_mode": {
    "name": "ipython",
    "version": 3
   },
   "file_extension": ".py",
   "mimetype": "text/x-python",
   "name": "python",
   "nbconvert_exporter": "python",
   "pygments_lexer": "ipython3",
   "version": "3.10.9"
  }
 },
 "nbformat": 4,
 "nbformat_minor": 5
}
