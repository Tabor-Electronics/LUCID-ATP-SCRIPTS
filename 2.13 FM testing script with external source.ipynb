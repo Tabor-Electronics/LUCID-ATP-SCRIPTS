{
 "cells": [
  {
   "cell_type": "code",
   "execution_count": 9,
   "id": "dd51482a",
   "metadata": {},
   "outputs": [
    {
     "name": "stdout",
     "output_type": "stream",
     "text": [
      "Connected to : Tabor Electronics,LSX2091D,20240101,1.0.35\n"
     ]
    }
   ],
   "source": [
    "'''\n",
    "Test - 2.13 Frequency modulation external source testing script\n",
    "Equipment required - \n",
    "1) Lucid device - LSX4091D\n",
    "2) Oscilloscope\tConfigure the scope as follows:\n",
    "    a.\tAmplitude: \t\t\t200 mV per division\n",
    "    b.\tTime base: \t\t\t100 µs per division\n",
    "3) Function generator\tConfigure the function generator as follows:\n",
    "    a.\tAmplitude: \t\t\t1 Vpp\n",
    "    b.\tFrequency: \t\t\t1 MHz\n",
    "    c.\tOutput: \t\t\tON\n",
    "\n",
    "\n",
    " '''\n",
    "import numpy as np\n",
    "import pyvisa as visa\n",
    "import socket\n",
    "import time\n",
    "import re  # Set the IP Address and port\n",
    "\n",
    "handle = 'TCPIP0::192.168.7.1::5025::SOCKET'\n",
    "\n",
    "\n",
    "def send_scpi_cmd(cmd, handle):\n",
    "    try:\n",
    "        resourceManager = visa.ResourceManager()\n",
    "        session = resourceManager.open_resource(handle)\n",
    "\n",
    "        # Need to define the termination string\n",
    "        session.write_termination = '\\n'\n",
    "        session.read_termination = '\\n'\n",
    "\n",
    "        session.write(cmd)\n",
    "        session.close()\n",
    "    except Exception as e:\n",
    "        print('[!] Exception: ' + str(e))\n",
    "\n",
    "\n",
    "def send_scpi_query(query, handle):\n",
    "    try:\n",
    "        resourceManager = visa.ResourceManager()\n",
    "        session = resourceManager.open_resource(handle)\n",
    "\n",
    "        # Need to define the termination string\n",
    "        session.write_termination = '\\n'\n",
    "        session.read_termination = '\\n'\n",
    "\n",
    "        response = str(session.query(query))\n",
    "        response =response.split(\";\")[0]\n",
    "        session.close()\n",
    "        return response\n",
    "\n",
    "    except Exception as e:\n",
    "        print('[!] Exception: ' + str(e))\n",
    "\n",
    "\n",
    "send_scpi_cmd('*CLS', handle)\n",
    "query = '*IDN?'\n",
    "temp = send_scpi_query(query, handle)\n",
    "print(\"Connected to :\", temp)"
   ]
  },
  {
   "cell_type": "code",
   "execution_count": 12,
   "id": "405cf18a",
   "metadata": {},
   "outputs": [],
   "source": [
    "freqq_in_MHz= 1200\n",
    "power_in_dBm = 5\n",
    "send_scpi_cmd(':FREQuency {0}e6'.format(freqq_in_MHz), handle)\n",
    "send_scpi_cmd(':POWer {0}'.format(power_in_dBm), handle)\n",
    "freq_query = send_scpi_query(':FREQuency?', handle)\n",
    "power_query = send_scpi_query(':POWer?', handle)\n",
    "send_scpi_cmd(':OUTPut ON', handle)\n",
    "outp_query = send_scpi_query(':OUTP?', handle)\n",
    "\n",
    "frequency = float(freq_query)/1e6"
   ]
  },
  {
   "cell_type": "code",
   "execution_count": 7,
   "id": "a83ac9b4",
   "metadata": {},
   "outputs": [
    {
     "name": "stdout",
     "output_type": "stream",
     "text": [
      "Set function generator Amplitude 1Vpp and frequency 100KHz and Press enter\n",
      "\n",
      "test completed\n"
     ]
    }
   ],
   "source": [
    "print(\"Set function generator Amplitude 1Vpp and frequency 100KHz and Press enter\")\n",
    "input()\n",
    "# # AM modulation setting with External source\n",
    "send_scpi_cmd(':FM:SOUR EXT',handle)\n",
    "send_scpi_cmd(':FM ON',handle )\n",
    "\n",
    "# Output on\n",
    "send_scpi_cmd(':OUTPut ON',handle )\n",
    "print(\"test completed\")\n"
   ]
  },
  {
   "cell_type": "code",
   "execution_count": null,
   "id": "e29c9c64",
   "metadata": {},
   "outputs": [],
   "source": []
  },
  {
   "cell_type": "code",
   "execution_count": null,
   "id": "e9647c2e",
   "metadata": {},
   "outputs": [],
   "source": []
  }
 ],
 "metadata": {
  "kernelspec": {
   "display_name": "Python 3 (ipykernel)",
   "language": "python",
   "name": "python3"
  },
  "language_info": {
   "codemirror_mode": {
    "name": "ipython",
    "version": 3
   },
   "file_extension": ".py",
   "mimetype": "text/x-python",
   "name": "python",
   "nbconvert_exporter": "python",
   "pygments_lexer": "ipython3",
   "version": "3.10.9"
  }
 },
 "nbformat": 4,
 "nbformat_minor": 5
}
