{
 "cells": [
  {
   "cell_type": "code",
   "execution_count": 1,
   "id": "dd51482a",
   "metadata": {},
   "outputs": [
    {
     "name": "stdout",
     "output_type": "stream",
     "text": [
      "Connected to : Tabor Electronics,LSX2091D,20240101,1.0.35\n"
     ]
    }
   ],
   "source": [
    "'''\n",
    "Test - 2.11  Internal Trigger Input test\n",
    "Equipment required -\n",
    "\n",
    "1) Lucid device - LSX4091D\n",
    "2) Oscilloscope\tConfigure the scope as follows:\n",
    "a.\tAmplitude: 500 mV per division\n",
    "b.\tTime base: 50% of the LSX4091 Trigger Timer\n",
    "c.\tTrigger mode: Triggered\n",
    "d.\tTrigger Level: 0.5\n",
    "\n",
    "\n",
    " '''\n",
    "import numpy as np\n",
    "import pyvisa as visa\n",
    "import socket\n",
    "import time\n",
    "import re  # Set the IP Address and port\n",
    "\n",
    "handle = 'TCPIP0::192.168.7.1::5025::SOCKET'\n",
    "\n",
    "\n",
    "def send_scpi_cmd(cmd, handle):\n",
    "    try:\n",
    "        resourceManager = visa.ResourceManager()\n",
    "        session = resourceManager.open_resource(handle)\n",
    "\n",
    "        # Need to define the termination string\n",
    "        session.write_termination = '\\n'\n",
    "        session.read_termination = '\\n'\n",
    "\n",
    "        session.write(cmd)\n",
    "        session.close()\n",
    "    except Exception as e:\n",
    "        print('[!] Exception: ' + str(e))\n",
    "\n",
    "\n",
    "def send_scpi_query(query, handle):\n",
    "    try:\n",
    "        resourceManager = visa.ResourceManager()\n",
    "        session = resourceManager.open_resource(handle)\n",
    "\n",
    "        # Need to define the termination string\n",
    "        session.write_termination = '\\n'\n",
    "        session.read_termination = '\\n'\n",
    "\n",
    "        response = str(session.query(query))\n",
    "        response =response.split(\";\")[0]\n",
    "        session.close()\n",
    "        return response\n",
    "\n",
    "    except Exception as e:\n",
    "        print('[!] Exception: ' + str(e))\n",
    "\n",
    "\n",
    "send_scpi_cmd('*CLS', handle)\n",
    "query = '*IDN?'\n",
    "temp = send_scpi_query(query, handle)\n",
    "print(\"Connected to :\", temp)"
   ]
  },
  {
   "cell_type": "code",
   "execution_count": 2,
   "id": "23ee922f",
   "metadata": {},
   "outputs": [
    {
     "name": "stdout",
     "output_type": "stream",
     "text": [
      "Check for frequency  100000000\n",
      "and Power  5 dBm\n",
      "Press input for next parameter\n",
      "\n",
      "Check for frequency  100000000\n",
      "and Power  5 dBm\n",
      "Press input for next parameter\n",
      "\n",
      "test completed\n"
     ]
    }
   ],
   "source": [
    "power_in_dBm=5\n",
    "trigger_timer = [1e-3,1e-4]\n",
    "for i in trigger_timer:\n",
    "    send_scpi_cmd(':FREQuency 100e6', handle)\n",
    "    send_scpi_cmd(':POWer {0}'.format(power_in_dBm), handle)\n",
    "    freq_query = send_scpi_query(':FREQuency?', handle)\n",
    "    power_query = send_scpi_query(':POWer?', handle)\n",
    "    send_scpi_cmd(':OUTPut ON', handle)\n",
    "    send_scpi_cmd(':INIT:CONT OFF',handle)\n",
    "    send_scpi_cmd(':TRIG:SOUR INT',handle)\n",
    "    send_scpi_cmd(':TRIG:SOUR TIM;',handle)\n",
    "    send_scpi_cmd(':TRIG:EDG POS',handle)\n",
    "    send_scpi_cmd(':TRIG:TIM:TIME {0}'.format(i),handle)\n",
    "\n",
    "    # AM modulation setting\n",
    "    send_scpi_cmd(':AM:SOUR INT',handle)\n",
    "    send_scpi_cmd(':AM:INT:FREQ 100e3',handle)\n",
    "    send_scpi_cmd(':AM:DEPT 50',handle)\n",
    "    send_scpi_cmd(':AM ON',handle)\n",
    "    print('Check for frequency ',freq_query)\n",
    "    print('and Power ',power_in_dBm,'dBm')\n",
    "    print('Press input for next parameter')\n",
    "    input()\n",
    "    send_scpi_cmd(':OUTPut OFF', handle)\n",
    "print(\"test completed\")\n"
   ]
  },
  {
   "cell_type": "code",
   "execution_count": null,
   "id": "e29c9c64",
   "metadata": {},
   "outputs": [],
   "source": []
  },
  {
   "cell_type": "code",
   "execution_count": null,
   "id": "e9647c2e",
   "metadata": {},
   "outputs": [],
   "source": []
  }
 ],
 "metadata": {
  "kernelspec": {
   "display_name": "Python 3 (ipykernel)",
   "language": "python",
   "name": "python3"
  },
  "language_info": {
   "codemirror_mode": {
    "name": "ipython",
    "version": 3
   },
   "file_extension": ".py",
   "mimetype": "text/x-python",
   "name": "python",
   "nbconvert_exporter": "python",
   "pygments_lexer": "ipython3",
   "version": "3.10.9"
  }
 },
 "nbformat": 4,
 "nbformat_minor": 5
}
