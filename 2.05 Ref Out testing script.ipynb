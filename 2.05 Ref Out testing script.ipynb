{
 "cells": [
  {
   "cell_type": "code",
   "execution_count": 1,
   "id": "00a5043f",
   "metadata": {},
   "outputs": [
    {
     "name": "stdout",
     "output_type": "stream",
     "text": [
      "Connected to : Tabor Electronics,LSX2091D,20240101,1.0.35\n"
     ]
    }
   ],
   "source": [
    "'''\n",
    "Test 2.5 Ref Out test\n",
    "Test description - This script tests the internal oscillator frequency for 10e6 and 100e6,\n",
    "Connect ref out to the measuring device.\n",
    "Equipment required -\n",
    "Lucid device - LSX4091D\n",
    "'''\n",
    "import numpy as np\n",
    "import pyvisa as visa\n",
    "import socket\n",
    "import time\n",
    "import re  # Set the IP Address and port\n",
    "\n",
    "handle = 'TCPIP0::192.168.7.1::5025::SOCKET'\n",
    "\n",
    "\n",
    "def send_scpi_cmd(cmd, handle):\n",
    "    try:\n",
    "        resourceManager = visa.ResourceManager()\n",
    "        session = resourceManager.open_resource(handle)\n",
    "\n",
    "        # Need to define the termination string\n",
    "        session.write_termination = '\\n'\n",
    "        session.read_termination = '\\n'\n",
    "\n",
    "        session.write(cmd)\n",
    "        session.close()\n",
    "    except Exception as e:\n",
    "        print('[!] Exception: ' + str(e))\n",
    "\n",
    "\n",
    "def send_scpi_query(query, handle):\n",
    "    try:\n",
    "        resourceManager = visa.ResourceManager()\n",
    "        session = resourceManager.open_resource(handle)\n",
    "\n",
    "        # Need to define the termination string\n",
    "        session.write_termination = '\\n'\n",
    "        session.read_termination = '\\n'\n",
    "\n",
    "        response = str(session.query(query))\n",
    "        response =response.split(\";\")[0]\n",
    "        session.close()\n",
    "        return response\n",
    "\n",
    "    except Exception as e:\n",
    "        print('[!] Exception: ' + str(e))\n",
    "\n",
    "\n",
    "send_scpi_cmd('*CLS', handle)\n",
    "query = '*IDN?'\n",
    "temp = send_scpi_query(query, handle)\n",
    "print(\"Connected to :\", temp)"
   ]
  },
  {
   "cell_type": "code",
   "execution_count": 8,
   "id": "48764d3d",
   "metadata": {},
   "outputs": [
    {
     "name": "stdout",
     "output_type": "stream",
     "text": [
      "Connected to : Tabor Electronics,LSX2091D,20240101,1.0.35\n"
     ]
    }
   ],
   "source": [
    "# Initilization\n",
    "send_scpi_cmd('*RST', handle)\n",
    "resp = send_scpi_query('*IDN?', handle)\n",
    "print(\"Connected to :\",resp)\n",
    "#send_scpi_cmd(':SYST:ERR?', handle)\n",
    "# send_scpi_cmd(':INST 1;:INST:ACT 1', handle)\n",
    "\n",
    "####################################################################\n",
    "# Input Parameters (madify this for 40G accordingly)\n",
    "power_list= [-5,0,10]"
   ]
  },
  {
   "cell_type": "code",
   "execution_count": 10,
   "id": "d2b3bf82",
   "metadata": {},
   "outputs": [
    {
     "name": "stdout",
     "output_type": "stream",
     "text": [
      "0, no errors\n",
      "Check for frequency  100e6\n",
      "and Power  -5 dBm\n",
      "Press input for next parameter\n",
      "\n",
      "0, no errors\n",
      "Check for frequency  100e6\n",
      "and Power  0 dBm\n",
      "Press input for next parameter\n",
      "\n",
      "0, no errors\n",
      "Check for frequency  100e6\n",
      "and Power  10 dBm\n",
      "Press input for next parameter\n",
      "\n",
      "test completed\n"
     ]
    }
   ],
   "source": [
    "# Connect ref out to the measuring device phase between signal source output and Ref Output is locked.\n",
    "\n",
    "for power_in_dBm in power_list:\n",
    "    send_scpi_cmd(':ROSC:OUTP:FREQ 100e6', handle)\n",
    "    err = send_scpi_query(':SYST:ERR?', handle)\n",
    "    print(err)\n",
    "    send_scpi_cmd(':POWer {0}'.format(power_in_dBm), handle)\n",
    "    freq_query = send_scpi_query(':ROSC:OUTP:FREQ?', handle)\n",
    "    power_query = send_scpi_query(':POWer?', handle)\n",
    "#         send_scpi_cmd(':OUTPut ON', handle)\n",
    "#         outp_query = send_scpi_query(':OUTP?', handle)\n",
    "\n",
    "\n",
    "    print('Check for frequency ',freq_query)\n",
    "\n",
    "    print('and Power ',power_query,'dBm')\n",
    "    print('Press input for next parameter')\n",
    "    input()\n",
    "    send_scpi_cmd(':OUTPut OFF', handle)\n",
    "print(\"test completed\")"
   ]
  },
  {
   "cell_type": "code",
   "execution_count": null,
   "id": "4527b082",
   "metadata": {},
   "outputs": [
    {
     "name": "stdout",
     "output_type": "stream",
     "text": [
      "0, no errors\n",
      "Check for frequency  10e6\n",
      "and Power  -5 dBm\n",
      "Press input for next parameter\n",
      "\n",
      "0, no errors\n",
      "Check for frequency  10e6\n",
      "and Power  0 dBm\n",
      "Press input for next parameter\n",
      "\n",
      "0, no errors\n",
      "Check for frequency  10e6\n",
      "and Power  10 dBm\n",
      "Press input for next parameter\n"
     ]
    }
   ],
   "source": [
    "for power_in_dBm in power_list:\n",
    "    send_scpi_cmd(':ROSC:OUTP:FREQ 10e6', handle)\n",
    "    err = send_scpi_query(':SYST:ERR?', handle)\n",
    "    print(err)\n",
    "    send_scpi_cmd(':POWer {0}'.format(power_in_dBm), handle)\n",
    "    freq_query = send_scpi_query(':ROSC:OUTP:FREQ?', handle)\n",
    "    power_query = send_scpi_query(':POWer?', handle)\n",
    "#         send_scpi_cmd(':OUTPut ON', handle)\n",
    "#         outp_query = send_scpi_query(':OUTP?', handle)\n",
    "\n",
    "\n",
    "    print('Check for frequency ',freq_query)\n",
    "\n",
    "    print('and Power ',power_query,'dBm')\n",
    "    print('Press input for next parameter')\n",
    "    input()\n",
    "    send_scpi_cmd(':OUTPut OFF', handle)\n",
    "print(\"test completed\")"
   ]
  },
  {
   "cell_type": "code",
   "execution_count": null,
   "id": "1762450c",
   "metadata": {},
   "outputs": [],
   "source": []
  },
  {
   "cell_type": "code",
   "execution_count": null,
   "id": "48d36cae",
   "metadata": {},
   "outputs": [],
   "source": []
  }
 ],
 "metadata": {
  "kernelspec": {
   "display_name": "Python 3 (ipykernel)",
   "language": "python",
   "name": "python3"
  },
  "language_info": {
   "codemirror_mode": {
    "name": "ipython",
    "version": 3
   },
   "file_extension": ".py",
   "mimetype": "text/x-python",
   "name": "python",
   "nbconvert_exporter": "python",
   "pygments_lexer": "ipython3",
   "version": "3.10.9"
  }
 },
 "nbformat": 4,
 "nbformat_minor": 5
}
