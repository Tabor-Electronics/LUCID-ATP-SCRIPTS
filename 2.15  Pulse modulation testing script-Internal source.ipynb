{
 "cells": [
  {
   "cell_type": "code",
   "execution_count": 3,
   "id": "dd51482a",
   "metadata": {},
   "outputs": [
    {
     "name": "stdout",
     "output_type": "stream",
     "text": [
      "Connected to : Tabor Electronics,LSX2091D,20240101,1.0.35\n"
     ]
    }
   ],
   "source": [
    "'''\n",
    "Test - 2.15  Pulse modulation internal source testing script\n",
    "Equipment required - \n",
    "1) Lucid device - LSX4091D\n",
    "2) Oscilloscope\tConfigure the scope as follows:\n",
    "    a.\tAmplitude: \t\t\t200 mV per division\n",
    "    b.\tTime base: \t\t\t100 µs per division\n",
    "\n",
    "\n",
    "\n",
    "\n",
    " '''\n",
    "import numpy as np\n",
    "import pyvisa as visa\n",
    "import socket\n",
    "import time\n",
    "import re  # Set the IP Address and port\n",
    "\n",
    "handle = 'TCPIP0::192.168.7.1::5025::SOCKET'\n",
    "\n",
    "\n",
    "def send_scpi_cmd(cmd, handle):\n",
    "    try:\n",
    "        resourceManager = visa.ResourceManager()\n",
    "        session = resourceManager.open_resource(handle)\n",
    "\n",
    "        # Need to define the termination string\n",
    "        session.write_termination = '\\n'\n",
    "        session.read_termination = '\\n'\n",
    "\n",
    "        session.write(cmd)\n",
    "        session.close()\n",
    "    except Exception as e:\n",
    "        print('[!] Exception: ' + str(e))\n",
    "\n",
    "\n",
    "def send_scpi_query(query, handle):\n",
    "    try:\n",
    "        resourceManager = visa.ResourceManager()\n",
    "        session = resourceManager.open_resource(handle)\n",
    "\n",
    "        # Need to define the termination string\n",
    "        session.write_termination = '\\n'\n",
    "        session.read_termination = '\\n'\n",
    "\n",
    "        response = str(session.query(query))\n",
    "        response =response.split(\";\")[0]\n",
    "        session.close()\n",
    "        return response\n",
    "\n",
    "    except Exception as e:\n",
    "        print('[!] Exception: ' + str(e))\n",
    "\n",
    "\n",
    "send_scpi_cmd('*CLS', handle)\n",
    "query = '*IDN?'\n",
    "temp = send_scpi_query(query, handle)\n",
    "print(\"Connected to :\", temp)"
   ]
  },
  {
   "cell_type": "code",
   "execution_count": 4,
   "id": "3d681372",
   "metadata": {},
   "outputs": [
    {
     "name": "stdout",
     "output_type": "stream",
     "text": [
      "Connected to : Tabor Electronics,LSX2091D,20240101,1.0.35\n"
     ]
    }
   ],
   "source": [
    "send_scpi_cmd('*CLS', handle)\n",
    "send_scpi_cmd('*RST', handle)\n",
    "query = '*IDN?'\n",
    "temp = send_scpi_query(query, handle)\n",
    "print(\"Connected to :\", temp)\n",
    "freqq_in_MHz= 1200\n",
    "power_in_dBm = 5\n",
    "send_scpi_cmd(':FREQuency {0}e6'.format(freqq_in_MHz), handle)\n",
    "send_scpi_cmd(':POWer {0}'.format(power_in_dBm), handle)\n",
    "freq_query = send_scpi_query(':FREQuency?', handle)\n",
    "power_query = send_scpi_query(':POWer?', handle)\n",
    "send_scpi_cmd(':OUTPut ON', handle)\n",
    "outp_query = send_scpi_query(':OUTP?', handle)\n",
    "\n",
    "frequency = float(freq_query)/1e6"
   ]
  },
  {
   "cell_type": "code",
   "execution_count": 5,
   "id": "c4125dd9",
   "metadata": {},
   "outputs": [
    {
     "name": "stdout",
     "output_type": "stream",
     "text": [
      "Check for frequency  1000000\n",
      "and Pulse width  5e-07\n",
      "Press input for next parameter\n",
      "\n",
      "Check for frequency  10000000\n",
      "and Pulse width  3.5e-08\n",
      "Press input for next parameter\n",
      "\n",
      "test completed\n"
     ]
    }
   ],
   "source": [
    "pulse_freq = [1e6,10e6]\n",
    "width = [500e-9,35e-9]\n",
    "send_scpi_cmd(':PULS:SOUR INT', handle)\n",
    "for i in range(len(width)):\n",
    "    # Pulse modulation setting with Internal source\n",
    "    send_scpi_cmd(':PULS:FREQ {0}'.format(pulse_freq[i]), handle)\n",
    "    send_scpi_cmd(':PULS:WIDT {0}'.format(width[i]), handle)\n",
    "    send_scpi_cmd(':PULS ON', handle)\n",
    "    send_scpi_cmd(':OUTPut ON', handle)\n",
    "    freq_query = send_scpi_query(':PULS:FREQ?', handle)\n",
    "    width_query = send_scpi_query(':PULS:WIDT?', handle)\n",
    "    print('Check for frequency ',freq_query)\n",
    "    print('and Pulse width ',width_query)\n",
    "    print('Press input for next parameter')\n",
    "    input()\n",
    "    send_scpi_cmd(':OUTPut OFF', handle)\n",
    "    send_scpi_cmd(':PULS OFF', handle)\n",
    "print(\"test completed\")"
   ]
  },
  {
   "cell_type": "code",
   "execution_count": null,
   "id": "e29c9c64",
   "metadata": {},
   "outputs": [],
   "source": []
  },
  {
   "cell_type": "code",
   "execution_count": null,
   "id": "e9647c2e",
   "metadata": {},
   "outputs": [],
   "source": []
  }
 ],
 "metadata": {
  "kernelspec": {
   "display_name": "Python 3 (ipykernel)",
   "language": "python",
   "name": "python3"
  },
  "language_info": {
   "codemirror_mode": {
    "name": "ipython",
    "version": 3
   },
   "file_extension": ".py",
   "mimetype": "text/x-python",
   "name": "python",
   "nbconvert_exporter": "python",
   "pygments_lexer": "ipython3",
   "version": "3.10.9"
  }
 },
 "nbformat": 4,
 "nbformat_minor": 5
}
