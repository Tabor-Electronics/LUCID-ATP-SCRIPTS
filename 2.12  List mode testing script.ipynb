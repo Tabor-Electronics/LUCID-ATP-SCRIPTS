{
 "cells": [
  {
   "cell_type": "code",
   "execution_count": 1,
   "id": "dd51482a",
   "metadata": {},
   "outputs": [
    {
     "name": "stdout",
     "output_type": "stream",
     "text": [
      "Connected to : Tabor Electronics,LSX2091D,20240101,1.0.35\n",
      "0, no errors\n"
     ]
    }
   ],
   "source": [
    "'''\n",
    "Test - 2.12  List mode testing script\n",
    "Equipment required - \n",
    "1) Lucid device - LSX4091D\n",
    "2) Oscilloscope\tConfigure the scope as follows:\n",
    "    a.\tAmplitude: \t\t\t200 mV per division\n",
    "    b.\tTime base: \t\t\t100 µs per division\n",
    "    c.\tTrigger: Normal\n",
    "    d.\tTrigger edge: Rise\n",
    "\n",
    " '''\n",
    "import numpy as np\n",
    "import pyvisa as visa\n",
    "import socket\n",
    "import time\n",
    "import re  # Set the IP Address and port\n",
    "\n",
    "handle = 'TCPIP0::192.168.7.1::5025::SOCKET'\n",
    "\n",
    "\n",
    "def send_scpi_cmd(cmd, handle):\n",
    "    try:\n",
    "        resourceManager = visa.ResourceManager()\n",
    "        session = resourceManager.open_resource(handle)\n",
    "\n",
    "        # Need to define the termination string\n",
    "        session.write_termination = '\\n'\n",
    "        session.read_termination = '\\n'\n",
    "\n",
    "        session.write(cmd)\n",
    "        session.close()\n",
    "    except Exception as e:\n",
    "        print('[!] Exception: ' + str(e))\n",
    "\n",
    "\n",
    "def send_scpi_query(query, handle):\n",
    "    try:\n",
    "        resourceManager = visa.ResourceManager()\n",
    "        session = resourceManager.open_resource(handle)\n",
    "\n",
    "        # Need to define the termination string\n",
    "        session.write_termination = '\\n'\n",
    "        session.read_termination = '\\n'\n",
    "\n",
    "        response = str(session.query(query))\n",
    "        response =response.split(\";\")[0]\n",
    "        session.close()\n",
    "        return response\n",
    "\n",
    "    except Exception as e:\n",
    "        print('[!] Exception: ' + str(e))\n",
    "\n",
    "\n",
    "send_scpi_cmd('*CLS', handle)\n",
    "send_scpi_cmd('*RST', handle)\n",
    "query = '*IDN?'\n",
    "temp = send_scpi_query(query, handle)\n",
    "print(\"Connected to :\", temp)\n",
    "err = send_scpi_query(':SYST:ERR?', handle)\n",
    "print(err)"
   ]
  },
  {
   "cell_type": "code",
   "execution_count": 9,
   "id": "d8d6d818",
   "metadata": {},
   "outputs": [
    {
     "name": "stdout",
     "output_type": "stream",
     "text": [
      "TEST 1 - Frequency switching speed\n",
      "0, no errors\n",
      "Test 1 completed \n",
      "Press enter for test 2\n",
      "\n",
      "Test 2 completed\n"
     ]
    }
   ],
   "source": [
    "########################################################################################################################\n",
    "# Set Lucid Parameters\n",
    "\n",
    "# Lists setting\n",
    "print(\"TEST 1 - Frequency switching speed\")\n",
    "send_scpi_cmd(':OUTPut ON', handle)\n",
    "\n",
    "send_scpi_cmd(':LIST:DEF 1,1e9,5,0,0,5e-4',handle )\n",
    "send_scpi_cmd(':LIST:DEF 2,2000000000,5,0,0,5e-4',handle )\n",
    "send_scpi_cmd(':LIST:DEF 3,3000000000,5,1,0,5e-4',handle )\n",
    "send_scpi_cmd(':LIST ON',handle )\n",
    "err = send_scpi_query(':SYST:ERR?', handle)\n",
    "print(err)\n",
    "\n",
    "print(\"Test 1 completed \\nPress enter for test 2\")\n",
    "input()\n",
    "send_scpi_cmd(':LIST OFF',handle )\n",
    "send_scpi_cmd(':OUTPut OFF', handle)\n",
    "send_scpi_cmd(':OUTPut ON', handle)\n",
    "\n",
    "\n",
    "send_scpi_cmd(':LIST:DEL:ALL',handle )\n",
    "send_scpi_cmd(':LIST:DEF 1,1000000000,5,0,0,5e-4',handle )\n",
    "send_scpi_cmd(':LIST:DEF 2,2000000000,0,0,0,1e-3',handle )\n",
    "send_scpi_cmd(':LIST:DEF 3,3000000000,-5,1,0,15e-4',handle )\n",
    "send_scpi_cmd(':LIST ON',handle )\n",
    "\n",
    "print(\"Test 2 completed\")\n"
   ]
  },
  {
   "cell_type": "code",
   "execution_count": null,
   "id": "23ee922f",
   "metadata": {},
   "outputs": [],
   "source": [
    "send_scpi_cmd(':OUTPut OFF', handle)\n",
    "print(\"test completed\")\n"
   ]
  },
  {
   "cell_type": "code",
   "execution_count": 4,
   "id": "e29c9c64",
   "metadata": {},
   "outputs": [
    {
     "name": "stdout",
     "output_type": "stream",
     "text": [
      "TEST 1 - Frequency switching speed\n"
     ]
    }
   ],
   "source": [
    "########################################################################################################################\n",
    "# Set Lucid Parameters\n",
    "\n",
    "# Lists setting\n",
    "print(\"TEST 1 - Frequency switching speed\")\n",
    "send_scpi_cmd(':OUTPut ON', handle)\n",
    "\n",
    "send_scpi_cmd(':LIST:DEF 1,5e9,5,0,0,1',handle )\n",
    "send_scpi_cmd(':LIST:DEF 2,3e9,5,0,0,1',handle )\n",
    "send_scpi_cmd(':LIST:DEF 3,4e9,5,1,0,1',handle )\n",
    "send_scpi_cmd(':LIST ON',handle )\n",
    "# send_scpi_cmd(':LIST:DEF 1,1.5e9,5,1,0,2',handle )"
   ]
  },
  {
   "cell_type": "code",
   "execution_count": null,
   "id": "e9647c2e",
   "metadata": {},
   "outputs": [],
   "source": []
  }
 ],
 "metadata": {
  "kernelspec": {
   "display_name": "Python 3 (ipykernel)",
   "language": "python",
   "name": "python3"
  },
  "language_info": {
   "codemirror_mode": {
    "name": "ipython",
    "version": 3
   },
   "file_extension": ".py",
   "mimetype": "text/x-python",
   "name": "python",
   "nbconvert_exporter": "python",
   "pygments_lexer": "ipython3",
   "version": "3.10.9"
  }
 },
 "nbformat": 4,
 "nbformat_minor": 5
}
