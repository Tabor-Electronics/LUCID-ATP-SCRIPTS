{
 "cells": [
  {
   "cell_type": "code",
   "execution_count": 1,
   "id": "00a5043f",
   "metadata": {},
   "outputs": [
    {
     "name": "stdout",
     "output_type": "stream",
     "text": [
      "Connected to : Tabor Electronics,LSX2091D,20240101,1.0.35\n"
     ]
    }
   ],
   "source": [
    "'''\n",
    "Test 2.4 Ref In test\n",
    "Test description - This script tests the internal oscillator frequency for 10e6 and 100e6,\n",
    "Connect ref out to the measuring device.\n",
    "Equipment required -\n",
    "1) Lucid device - LSX4091D\n",
    "2) Signal generator-\n",
    "3) Oscilloscope\n",
    "\n",
    "##CONNECTIONS - \n",
    "1.\tConnect the LSX4091 output to the scope channel 1 input\n",
    "2.\tConnect the signal generator 10MHz Ref output to the scope channel 2 input\n",
    "3.\tConnect the signal generator output to the LSX4091 Ref In input\n",
    "\n",
    "'''\n",
    "import numpy as np\n",
    "import pyvisa as visa\n",
    "import socket\n",
    "import time\n",
    "import re  # Set the IP Address and port\n",
    "\n",
    "handle = 'TCPIP0::192.168.7.1::5025::SOCKET'\n",
    "\n",
    "\n",
    "def send_scpi_cmd(cmd, handle):\n",
    "    try:\n",
    "        resourceManager = visa.ResourceManager()\n",
    "        session = resourceManager.open_resource(handle)\n",
    "\n",
    "        # Need to define the termination string\n",
    "        session.write_termination = '\\n'\n",
    "        session.read_termination = '\\n'\n",
    "\n",
    "        session.write(cmd)\n",
    "        session.close()\n",
    "    except Exception as e:\n",
    "        print('[!] Exception: ' + str(e))\n",
    "\n",
    "\n",
    "def send_scpi_query(query, handle):\n",
    "    try:\n",
    "        resourceManager = visa.ResourceManager()\n",
    "        session = resourceManager.open_resource(handle)\n",
    "\n",
    "        # Need to define the termination string\n",
    "        session.write_termination = '\\n'\n",
    "        session.read_termination = '\\n'\n",
    "\n",
    "        response = str(session.query(query))\n",
    "        response =response.split(\";\")[0]\n",
    "        \n",
    "        session.close()\n",
    "        return response\n",
    "\n",
    "    except Exception as e:\n",
    "        print('[!] Exception: ' + str(e))\n",
    "\n",
    "\n",
    "send_scpi_cmd('*CLS', handle)\n",
    "send_scpi_cmd('*RST', handle)\n",
    "query = '*IDN?'\n",
    "temp = send_scpi_query(query, handle)\n",
    "print(\"Connected to :\", temp)"
   ]
  },
  {
   "cell_type": "code",
   "execution_count": null,
   "id": "48764d3d",
   "metadata": {},
   "outputs": [
    {
     "name": "stdout",
     "output_type": "stream",
     "text": [
      "Connected to : Tabor Electronics,LSX2091D,20240101,1.0.35\n",
      "EXTernal\n",
      "\n",
      "EXTernal\n"
     ]
    }
   ],
   "source": [
    "# Initilization\n",
    "send_scpi_cmd('*RST', handle)\n",
    "resp = send_scpi_query('*IDN?', handle)\n",
    "print(\"Connected to :\",resp)\n",
    "#send_scpi_cmd(':SYST:ERR?', handle)\n",
    "# send_scpi_cmd(':INST 1;:INST:ACT 1', handle)\n",
    "\n",
    "####################################################################\n",
    "# Input Parameters (madify this for 40G accordingly)\n",
    "rosc_frequency_list =[100e6,10e6]\n",
    "power_list= [-5,0,10]\n",
    "for rosc_freq in rosc_frequency_list:\n",
    "    for power_in_dBm in power_list:\n",
    "        rosc_query = send_scpi_query(':ROSC:SOUR?', handle)\n",
    "        print(rosc_query)\n",
    "#         freq_query1 = send_scpi_query(':ROSC:OUTP:FREQ?', handle)\n",
    "#         send_scpi_cmd(':OUTPut ON', handle)\n",
    "#         outp_query = send_scpi_query(':OUTP?', handle)\n",
    "#         print('Check for frequency ',freq_query1)\n",
    "#         print('Set the signal generator at {0},Press input for next parameter'.format(freq_query1))\n",
    "        input()\n",
    "#         send_scpi_cmd(':OUTPut OFF', handle)\n",
    "print(\"test completed\")"
   ]
  },
  {
   "cell_type": "code",
   "execution_count": null,
   "id": "1762450c",
   "metadata": {},
   "outputs": [],
   "source": []
  },
  {
   "cell_type": "code",
   "execution_count": null,
   "id": "48d36cae",
   "metadata": {},
   "outputs": [],
   "source": []
  }
 ],
 "metadata": {
  "kernelspec": {
   "display_name": "Python 3 (ipykernel)",
   "language": "python",
   "name": "python3"
  },
  "language_info": {
   "codemirror_mode": {
    "name": "ipython",
    "version": 3
   },
   "file_extension": ".py",
   "mimetype": "text/x-python",
   "name": "python",
   "nbconvert_exporter": "python",
   "pygments_lexer": "ipython3",
   "version": "3.10.9"
  }
 },
 "nbformat": 4,
 "nbformat_minor": 5
}
